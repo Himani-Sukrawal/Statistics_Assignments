{
  "nbformat": 4,
  "nbformat_minor": 0,
  "metadata": {
    "colab": {
      "provenance": []
    },
    "kernelspec": {
      "name": "python3",
      "display_name": "Python 3"
    },
    "language_info": {
      "name": "python"
    }
  },
  "cells": [
    {
      "cell_type": "markdown",
      "source": [
        "# **Statistics Basics Theory Questions**"
      ],
      "metadata": {
        "id": "HrO4FlA3A3ab"
      }
    },
    {
      "cell_type": "markdown",
      "source": [
        "**1. What is statistics, and why is it important?**\n",
        "\n",
        "Ans - Statistics is the science of collecting, analyzing, interpreting, and presenting data. It helps us understand patterns, relationships, and trends in data, making it a critical tool for decision-making in fields like business, healthcare, economics, and social sciences. By applying statistical methods, we can make data-driven predictions and inform policy or strategy.\n",
        "\n",
        "\n",
        "**2. What are the two main types of statistics?**\n",
        "\n",
        "Ans - The two main types of statistics are:\n",
        "\n",
        "Descriptive statistics: Summarizes and organizes data to describe its main features (e.g., averages, ranges).\n",
        "Inferential statistics: Makes predictions or inferences about a population based on a sample, often using probability and hypothesis testing.\n",
        "\n",
        "\n",
        "**3. What are descriptive statistics?**\n",
        "\n",
        "Ans - Descriptive statistics involves summarizing or describing the basic features of a dataset. This includes measures like central tendency (mean, median, mode), dispersion (variance, standard deviation, range), and shape (skewness, kurtosis) to provide a clear snapshot of the data.\n",
        "\n",
        "\n",
        "**4. What is inferential statistics?**\n",
        "\n",
        "Ans - Inferential statistics goes beyond the data at hand to draw conclusions about a larger population. It involves hypothesis testing, confidence intervals, and regression analysis to make predictions or test theories based on sample data.\n",
        "\n",
        "\n",
        "**5. What is sampling in statistics?**\n",
        "\n",
        "Ans - Sampling is the process of selecting a subset of individuals or items from a larger population to estimate characteristics of the entire population. Since studying the entire population is often impractical, sampling allows us to gather insights and make generalizations with a smaller group.\n",
        "\n",
        "\n",
        "**6. What are the different types of sampling methods?**\n",
        "\n",
        "Ans - Common sampling methods include:\n",
        "\n",
        "Simple random sampling: Every individual has an equal chance of being selected.\n",
        "Systematic sampling: Every nth individual is selected from a list.\n",
        "Stratified sampling: The population is divided into subgroups (strata), and samples are taken from each.\n",
        "Cluster sampling: The population is divided into clusters, and entire clusters are selected randomly.\n",
        "\n",
        "\n",
        "**7. What is the difference between random and non-random sampling?**\n",
        "\n",
        "Ans - Random sampling eliminates bias by giving each member of the population an equal chance of being chosen, ensuring the sample is representative. Non-random sampling, such as convenience or judgment sampling, involves choosing individuals based on specific criteria, which may introduce bias and affect the generalizability of results.\n",
        "\n",
        "\n",
        "**8. Define and give examples of qualitative and quantitative data.**\n",
        "\n",
        "Ans - Qualitative data (also called categorical): Describes attributes or qualities. Examples include colors (e.g., red, blue), types of animals (e.g., cats, dogs), or preferences (e.g., yes/no responses).\n",
        "Quantitative data (also called numerical): Represents amounts or counts. Examples include age (e.g., 25 years), height (e.g., 180 cm), or income (e.g., $50,000).\n",
        "\n",
        "\n",
        "**9. What are the different types of data in statistics?**\n",
        "\n",
        "Ans - Nominal: Categories with no order (e.g., gender, hair color).\n",
        "Ordinal: Categories with a meaningful order but no consistent intervals (e.g., ranking in a competition).\n",
        "Interval: Numerical data with equal intervals but no true zero (e.g., temperature in Celsius).\n",
        "Ratio: Numerical data with both equal intervals and a true zero point (e.g., weight, height, age).\n",
        "\n",
        "\n",
        "**10. Explain nominal, ordinal, interval, and ratio levels of measurement.**\n",
        "\n",
        "Ans - Nominal: Data categorized without any order or ranking (e.g., types of fruits: apple, orange, banana).\n",
        "Ordinal: Data with an inherent order but unknown distances between categories (e.g., satisfaction levels: poor, fair, good).\n",
        "Interval: Data with ordered categories and equal intervals, but no true zero (e.g., calendar years, temperature in Celsius).\n",
        "Ratio: Similar to interval data, but with a true zero point, allowing for meaningful ratios (e.g., weight, income, age).\n",
        "\n",
        "\n",
        "**11. What is the measure of central tendency?**\n",
        "\n",
        "Ans - Measures of central tendency are statistical values that describe the center of a dataset. They include:\n",
        "\n",
        "Mean: The arithmetic average of the data.\n",
        "Median: The middle value when data is ordered.\n",
        "Mode: The most frequent value in the dataset.\n",
        "\n",
        "\n",
        "**12. Define mean, median, and mode.**\n",
        "\n",
        "Ans - Mean: The sum of all data points divided by the number of points. It is sensitive to extreme values (outliers).\n",
        "Median: The middle value when the data is sorted in ascending or descending order. It’s useful when data has outliers, as it isn’t as affected by them.\n",
        "Mode: The value that appears most frequently in a dataset. There can be multiple modes or no mode at all.\n",
        "\n",
        "\n",
        "**13. What is the significance of the measure of central tendency?**\n",
        "\n",
        "Ans - These measures give us a summary of the data and a way to describe the \"center\" or typical value of a dataset. They help to understand general trends and make comparisons between different datasets.\n",
        "\n",
        "\n",
        "**14. What is variance, and how is it calculated?**\n",
        "\n",
        "Ans - Variance measures how far the data points are from the mean. It’s calculated by averaging the squared differences from the mean. A higher variance indicates greater spread in the data.\n",
        "\n",
        "\n",
        "**15. What is standard deviation, and why is it important?**\n",
        "\n",
        "Ans - Standard deviation is the square root of variance, providing a measure of how spread out the values are in a dataset. It's important because it gives a more intuitive understanding of data variability, as it's in the same units as the data itself.\n",
        "\n",
        "\n",
        "**16. Define and explain the term range in statistics.**\n",
        "\n",
        "Ans - Range is the difference between the highest and lowest values in a dataset. It’s a simple way to gauge the spread of the data, but it’s sensitive to outliers.\n",
        "\n",
        "\n",
        "**17. What is the difference between variance and standard deviation?**\n",
        "\n",
        "Ans - Variance measures the average squared deviations from the mean, and is in squared units. Standard deviation is the square root of variance and is in the same units as the data, making it more interpretable.\n",
        "\n",
        "\n",
        "**18. What is skewness in a dataset?**\n",
        "\n",
        "Ans - Skewness refers to the asymmetry of a distribution. If a dataset has a long tail on one side, it's skewed. A positive skew means the tail is on the right; a negative skew means the tail is on the left.\n",
        "\n",
        "\n",
        "**19. What does it mean if a dataset is positively or negatively skewed?**\n",
        "\n",
        "Ans - Positively skewed: The right tail is longer, and the data are concentrated on the left side of the mean.\n",
        "Negatively skewed: The left tail is longer, and the data are concentrated on the right side of the mean.\n",
        "\n",
        "\n",
        "**20. Define and explain kurtosis.**\n",
        "\n",
        "Ans - Kurtosis measures the \"peakedness\" or \"flatness\" of a distribution. High kurtosis indicates a distribution with heavy tails or outliers (leptokurtic), while low kurtosis suggests a flatter distribution (platykurtic).\n",
        "\n",
        "\n",
        "**21. What is the purpose of covariance?**\n",
        "\n",
        "Ans - Covariance measures how two variables change together. It’s used to assess the direction of the relationship between two variables—whether they move in the same direction (positive covariance) or opposite directions (negative covariance).\n",
        "\n",
        "\n",
        "**22. What does correlation measure in statistics?**\n",
        "\n",
        "Ans - Correlation measures the strength and direction of a linear relationship between two variables. It’s standardized between -1 (perfect negative correlation) and +1 (perfect positive correlation), with 0 meaning no linear relationship.\n",
        "\n",
        "\n",
        "**23. What is the difference between covariance and correlation?**\n",
        "\n",
        "Ans - Covariance shows the direction of the relationship between two variables but is sensitive to the scale of the data, making it hard to interpret directly. Correlation standardizes this relationship, making it more useful for comparing relationships across different datasets.\n",
        "\n",
        "\n",
        "**24. What are some real-world applications of statistics?**\n",
        "\n",
        "Ans - Statistics are widely used:\n",
        "\n",
        "Healthcare: To analyze clinical trial data, measure drug effectiveness, or predict disease outbreaks.\n",
        "Business: For market research, customer satisfaction analysis, and financial forecasting.\n",
        "Sports: To track player performance, make team decisions, and predict game outcomes.\n",
        "Government: For polling, economic indicators, and policy-making based on data analysis."
      ],
      "metadata": {
        "id": "c46hIza5CNb6"
      }
    },
    {
      "cell_type": "markdown",
      "source": [
        "# **Statistics Basics Practical Questions**"
      ],
      "metadata": {
        "id": "cQ7HrD7aDQGV"
      }
    },
    {
      "cell_type": "markdown",
      "source": [
        "**1. How do you calculate the mean, median, and mode of a dataset?**"
      ],
      "metadata": {
        "id": "-Kd0hIy4Fsi2"
      }
    },
    {
      "cell_type": "code",
      "source": [
        "import statistics\n",
        "\n",
        "def calculate_statistics(data):\n",
        "    # Calculate mean\n",
        "    mean = sum(data) / len(data)\n",
        "\n",
        "    # Calculate median\n",
        "    median = statistics.median(data)\n",
        "\n",
        "    # Calculate mode\n",
        "    try:\n",
        "        mode = statistics.mode(data)\n",
        "    except statistics.StatisticsError:\n",
        "        mode = \"No unique mode\"\n",
        "\n",
        "    return mean, median, mode\n",
        "\n",
        "# Example dataset\n",
        "data = [5, 8, 12, 16, 20]\n",
        "\n",
        "# Calculate and print the statistics\n",
        "mean, median, mode = calculate_statistics(data)\n",
        "\n",
        "print(\"Mean:\", mean)\n",
        "print(\"Median:\", median)\n",
        "print(\"Mode:\", mode)"
      ],
      "metadata": {
        "colab": {
          "base_uri": "https://localhost:8080/"
        },
        "id": "VxMJbWxjFz7H",
        "outputId": "ac742354-9b95-47db-cc7c-1f62a279e730"
      },
      "execution_count": 1,
      "outputs": [
        {
          "output_type": "stream",
          "name": "stdout",
          "text": [
            "Mean: 12.2\n",
            "Median: 12\n",
            "Mode: 5\n"
          ]
        }
      ]
    },
    {
      "cell_type": "markdown",
      "source": [
        "**2. Write a Python program to compute the variance and standard deviation of a dataset.**"
      ],
      "metadata": {
        "id": "BXR9vocsF5Ym"
      }
    },
    {
      "cell_type": "code",
      "source": [
        "import math\n",
        "\n",
        "def calculate_variance_and_std(data):\n",
        "    # Calculate mean\n",
        "    mean = sum(data) / len(data)\n",
        "\n",
        "    # Calculate variance\n",
        "    variance = sum((x - mean) ** 2 for x in data) / len(data)\n",
        "\n",
        "    # Calculate standard deviation\n",
        "    std_deviation = math.sqrt(variance)\n",
        "\n",
        "    return variance, std_deviation\n",
        "\n",
        "# Example dataset\n",
        "data = [5, 8, 12, 16, 20]\n",
        "\n",
        "# Calculate and print the variance and standard deviation\n",
        "variance, std_deviation = calculate_variance_and_std(data)\n",
        "\n",
        "print(\"Variance:\", variance)\n",
        "print(\"Standard Deviation:\", std_deviation)"
      ],
      "metadata": {
        "colab": {
          "base_uri": "https://localhost:8080/"
        },
        "id": "G67KyO_rF8C3",
        "outputId": "48846840-7b92-4302-d90c-8c33fe00363f"
      },
      "execution_count": 2,
      "outputs": [
        {
          "output_type": "stream",
          "name": "stdout",
          "text": [
            "Variance: 28.96\n",
            "Standard Deviation: 5.3814496188294845\n"
          ]
        }
      ]
    },
    {
      "cell_type": "markdown",
      "source": [
        "**3. Create a dataset and classify it into nominal, ordinal, interval, and ratio types.**"
      ],
      "metadata": {
        "id": "6Zlu0S6dF-73"
      }
    },
    {
      "cell_type": "code",
      "source": [
        "# Nominal: Categories with no order\n",
        "animals = ['Dog', 'Cat', 'Bird', 'Fish', 'Dog']\n",
        "\n",
        "# Ordinal: Categories with meaningful order, but no consistent intervals\n",
        "education_levels = ['High School', 'Bachelor', 'Master', 'PhD']\n",
        "\n",
        "# Interval: Numerical data with meaningful intervals but no true zero\n",
        "temperatures_celsius = [10, 20, 30, 40, 50]\n",
        "\n",
        "# Ratio: Numerical data with a true zero point\n",
        "ages = [20, 25, 30, 35, 40]\n",
        "\n",
        "# Displaying the dataset\n",
        "print(\"Nominal Data (Animal Types):\", animals)\n",
        "print(\"Ordinal Data (Education Levels):\", education_levels)\n",
        "print(\"Interval Data (Temperatures in Celsius):\", temperatures_celsius)\n",
        "print(\"Ratio Data (Ages):\", ages)"
      ],
      "metadata": {
        "colab": {
          "base_uri": "https://localhost:8080/"
        },
        "id": "TgTYt0sDGBTd",
        "outputId": "5de522f2-0e11-4bfd-ea1e-9c6bf82a4008"
      },
      "execution_count": 3,
      "outputs": [
        {
          "output_type": "stream",
          "name": "stdout",
          "text": [
            "Nominal Data (Animal Types): ['Dog', 'Cat', 'Bird', 'Fish', 'Dog']\n",
            "Ordinal Data (Education Levels): ['High School', 'Bachelor', 'Master', 'PhD']\n",
            "Interval Data (Temperatures in Celsius): [10, 20, 30, 40, 50]\n",
            "Ratio Data (Ages): [20, 25, 30, 35, 40]\n"
          ]
        }
      ]
    },
    {
      "cell_type": "markdown",
      "source": [
        "**4. Implement sampling techniques like random sampling and stratified sampling.**"
      ],
      "metadata": {
        "id": "Jhect8iZGKj2"
      }
    },
    {
      "cell_type": "code",
      "source": [
        "import random\n",
        "import pandas as pd\n",
        "\n",
        "# Example population dataset\n",
        "population_data = {\n",
        "    'Age': [22, 25, 27, 30, 35, 40, 45, 50, 55, 60],\n",
        "    'Gender': ['Male', 'Female', 'Male', 'Female', 'Male', 'Female', 'Male', 'Female', 'Male', 'Female'],\n",
        "    'Income': [50000, 55000, 60000, 65000, 70000, 75000, 80000, 85000, 90000, 95000]\n",
        "}\n",
        "\n",
        "# Convert the dataset to a pandas DataFrame\n",
        "population_df = pd.DataFrame(population_data)\n",
        "\n",
        "# 1. Random Sampling\n",
        "def random_sampling(data, sample_size):\n",
        "    return data.sample(n=sample_size, random_state=42)\n",
        "\n",
        "# 2. Stratified Sampling\n",
        "def stratified_sampling(data, stratify_column, sample_size):\n",
        "    stratified_sample = data.groupby(stratify_column).apply(lambda x: x.sample(n=int(sample_size / len(data[stratify_column].unique())), random_state=42)).reset_index(drop=True)\n",
        "    return stratified_sample\n",
        "\n",
        "# Example: Random Sampling\n",
        "sample_size = 4\n",
        "random_sample = random_sampling(population_df, sample_size)\n",
        "\n",
        "# Example: Stratified Sampling (stratified by 'Gender')\n",
        "stratified_sample = stratified_sampling(population_df, stratify_column='Gender', sample_size=4)\n",
        "\n",
        "# Displaying the results\n",
        "print(\"Random Sample:\")\n",
        "print(random_sample)\n",
        "print(\"\\nStratified Sample (based on Gender):\")\n",
        "print(stratified_sample)"
      ],
      "metadata": {
        "colab": {
          "base_uri": "https://localhost:8080/"
        },
        "id": "GsHsMlkbGOlG",
        "outputId": "041e56c8-9097-410d-e460-d1d0e70ea2c5"
      },
      "execution_count": 4,
      "outputs": [
        {
          "output_type": "stream",
          "name": "stdout",
          "text": [
            "Random Sample:\n",
            "   Age  Gender  Income\n",
            "8   55    Male   90000\n",
            "1   25  Female   55000\n",
            "5   40  Female   75000\n",
            "0   22    Male   50000\n",
            "\n",
            "Stratified Sample (based on Gender):\n",
            "   Age  Gender  Income\n",
            "0   30  Female   65000\n",
            "1   60  Female   95000\n",
            "2   27    Male   60000\n",
            "3   55    Male   90000\n"
          ]
        },
        {
          "output_type": "stream",
          "name": "stderr",
          "text": [
            "/tmp/ipython-input-4-1105890586.py:20: DeprecationWarning: DataFrameGroupBy.apply operated on the grouping columns. This behavior is deprecated, and in a future version of pandas the grouping columns will be excluded from the operation. Either pass `include_groups=False` to exclude the groupings or explicitly select the grouping columns after groupby to silence this warning.\n",
            "  stratified_sample = data.groupby(stratify_column).apply(lambda x: x.sample(n=int(sample_size / len(data[stratify_column].unique())), random_state=42)).reset_index(drop=True)\n"
          ]
        }
      ]
    },
    {
      "cell_type": "markdown",
      "source": [
        "**5. Write a Python function to calculate the range of a dataset.**"
      ],
      "metadata": {
        "id": "tjOmkvQCGZcg"
      }
    },
    {
      "cell_type": "code",
      "source": [
        "def calculate_range(data):\n",
        "    # Calculate the range (max - min)\n",
        "    data_range = max(data) - min(data)\n",
        "    return data_range\n",
        "\n",
        "# Example dataset\n",
        "data = [5, 8, 12, 16, 20]\n",
        "\n",
        "# Calculate and print the range\n",
        "range_value = calculate_range(data)\n",
        "\n",
        "print(\"Range of the dataset:\", range_value)"
      ],
      "metadata": {
        "colab": {
          "base_uri": "https://localhost:8080/"
        },
        "id": "3V1_hegXGa5l",
        "outputId": "ec353da7-4bf4-46d4-9c25-769dcdbd1252"
      },
      "execution_count": 5,
      "outputs": [
        {
          "output_type": "stream",
          "name": "stdout",
          "text": [
            "Range of the dataset: 15\n"
          ]
        }
      ]
    },
    {
      "cell_type": "markdown",
      "source": [
        "**6. Create a dataset and plot its histogram to visualize skewness.**"
      ],
      "metadata": {
        "id": "jELxaoPnGdZG"
      }
    },
    {
      "cell_type": "code",
      "source": [
        "import matplotlib.pyplot as plt\n",
        "import numpy as np\n",
        "\n",
        "# Create a dataset (for example, a right-skewed dataset)\n",
        "data = np.random.lognormal(mean=0, sigma=1, size=1000)\n",
        "\n",
        "# Plotting the histogram\n",
        "plt.hist(data, bins=30, edgecolor='black', alpha=0.7)\n",
        "plt.title('Histogram of Right-Skewed Data')\n",
        "plt.xlabel('Value')\n",
        "plt.ylabel('Frequency')\n",
        "plt.show()"
      ],
      "metadata": {
        "colab": {
          "base_uri": "https://localhost:8080/",
          "height": 472
        },
        "id": "n5SR_EY3GfcV",
        "outputId": "31a4c5fb-a892-4c33-b0df-3ef5a0105bbb"
      },
      "execution_count": 6,
      "outputs": [
        {
          "output_type": "display_data",
          "data": {
            "text/plain": [
              "<Figure size 640x480 with 1 Axes>"
            ],
            "image/png": "[encoded data removed]"
          },
          "metadata": {}
        }
      ]
    },
    {
      "cell_type": "markdown",
      "source": [
        "**7. Calculate skewness and kurtosis of a dataset using Python libraries.**"
      ],
      "metadata": {
        "id": "wwolZA7kGjGG"
      }
    },
    {
      "cell_type": "code",
      "source": [
        "from scipy.stats import skew, kurtosis\n",
        "import numpy as np\n",
        "\n",
        "# Create a dataset (e.g., normal distribution)\n",
        "data = np.random.normal(0, 1, 1000)\n",
        "\n",
        "# Calculate skewness and kurtosis\n",
        "data_skewness = skew(data)\n",
        "data_kurtosis = kurtosis(data)\n",
        "\n",
        "print(f\"Skewness: {data_skewness}\")\n",
        "print(f\"Kurtosis: {data_kurtosis}\")"
      ],
      "metadata": {
        "colab": {
          "base_uri": "https://localhost:8080/"
        },
        "id": "fvKvUk12GoT_",
        "outputId": "1ab1ef6a-8bb6-43ce-88fc-e06c8b8eb00c"
      },
      "execution_count": 7,
      "outputs": [
        {
          "output_type": "stream",
          "name": "stdout",
          "text": [
            "Skewness: 0.02015639382292446\n",
            "Kurtosis: -0.14039663132988922\n"
          ]
        }
      ]
    },
    {
      "cell_type": "markdown",
      "source": [
        "**8. Generate a dataset and demonstrate positive and negative skewness.**"
      ],
      "metadata": {
        "id": "rKKGOk1AGrFW"
      }
    },
    {
      "cell_type": "code",
      "source": [
        "import matplotlib.pyplot as plt\n",
        "import numpy as np\n",
        "\n",
        "# Positive skew (right-skewed)\n",
        "data_positive_skew = np.random.lognormal(mean=0, sigma=1, size=1000)\n",
        "\n",
        "# Negative skew (left-skewed)\n",
        "data_negative_skew = np.random.lognormal(mean=0, sigma=1, size=1000) ** -1\n",
        "\n",
        "# Plotting the datasets\n",
        "fig, ax = plt.subplots(1, 2, figsize=(12, 6))\n",
        "\n",
        "# Positive skew\n",
        "ax[0].hist(data_positive_skew, bins=30, edgecolor='black', alpha=0.7)\n",
        "ax[0].set_title('Positive Skew (Right Skewed)')\n",
        "\n",
        "# Negative skew\n",
        "ax[1].hist(data_negative_skew, bins=30, edgecolor='black', alpha=0.7)\n",
        "ax[1].set_title('Negative Skew (Left Skewed)')\n",
        "\n",
        "plt.tight_layout()\n",
        "plt.show()"
      ],
      "metadata": {
        "colab": {
          "base_uri": "https://localhost:8080/",
          "height": 607
        },
        "id": "J2dpeRHAGtRX",
        "outputId": "0b04f6e6-f3f4-436a-cce9-6ee6c36df612"
      },
      "execution_count": 8,
      "outputs": [
        {
          "output_type": "display_data",
          "data": {
            "text/plain": [
              "<Figure size 1200x600 with 2 Axes>"
            ],
            "image/png": "[encoded data removed]"
          },
          "metadata": {}
        }
      ]
    },
    {
      "cell_type": "markdown",
      "source": [
        "**9. Write a Python script to calculate covariance between two datasets.**"
      ],
      "metadata": {
        "id": "c4nO9C-yGxO2"
      }
    },
    {
      "cell_type": "code",
      "source": [
        "import numpy as np\n",
        "\n",
        "# Create two datasets\n",
        "x = np.random.normal(0, 1, 1000)\n",
        "y = np.random.normal(0, 1, 1000)\n",
        "\n",
        "# Calculate covariance\n",
        "cov_matrix = np.cov(x, y)\n",
        "covariance = cov_matrix[0, 1]  # Covariance is in the [0,1] position of the matrix\n",
        "\n",
        "print(f\"Covariance between x and y: {covariance}\")"
      ],
      "metadata": {
        "colab": {
          "base_uri": "https://localhost:8080/"
        },
        "id": "Cga2KnmzG0Bm",
        "outputId": "3050d3c3-3ac4-485a-ed9b-3217fafae342"
      },
      "execution_count": 9,
      "outputs": [
        {
          "output_type": "stream",
          "name": "stdout",
          "text": [
            "Covariance between x and y: -0.02514244961377958\n"
          ]
        }
      ]
    },
    {
      "cell_type": "markdown",
      "source": [
        "**10. Write a Python script to calculate the correlation coefficient between two datasets.**"
      ],
      "metadata": {
        "id": "kcoVEfRpG3ZY"
      }
    },
    {
      "cell_type": "code",
      "source": [
        "import numpy as np\n",
        "\n",
        "# Create two datasets\n",
        "x = np.random.normal(0, 1, 1000)\n",
        "y = np.random.normal(0, 1, 1000)\n",
        "\n",
        "# Calculate correlation coefficient\n",
        "correlation_matrix = np.corrcoef(x, y)\n",
        "correlation_coefficient = correlation_matrix[0, 1]\n",
        "\n",
        "print(f\"Correlation coefficient between x and y: {correlation_coefficient}\")"
      ],
      "metadata": {
        "colab": {
          "base_uri": "https://localhost:8080/"
        },
        "id": "7Ohn8NyFG6Om",
        "outputId": "2613c4da-b6ea-4547-e62d-d2a0ba2ff80c"
      },
      "execution_count": 10,
      "outputs": [
        {
          "output_type": "stream",
          "name": "stdout",
          "text": [
            "Correlation coefficient between x and y: 0.03131744588273806\n"
          ]
        }
      ]
    },
    {
      "cell_type": "markdown",
      "source": [
        "**11. Create a scatter plot to visualize the relationship between two variables.**"
      ],
      "metadata": {
        "id": "a2I98uEsG87B"
      }
    },
    {
      "cell_type": "code",
      "source": [
        "import matplotlib.pyplot as plt\n",
        "\n",
        "# Sample data\n",
        "x = [5, 7, 8, 7, 2, 17, 2, 9, 4, 11]\n",
        "y = [99, 86, 87, 88, 100, 86, 103, 87, 94, 78]\n",
        "\n",
        "# Create scatter plot\n",
        "plt.scatter(x, y, color='blue', marker='o')\n",
        "\n",
        "# Add titles and labels\n",
        "plt.title(\"Scatter Plot: Relationship between X and Y\")\n",
        "plt.xlabel(\"Variable X\")\n",
        "plt.ylabel(\"Variable Y\")\n",
        "\n",
        "# Show grid\n",
        "plt.grid(True)\n",
        "\n",
        "# Show plot\n",
        "plt.show()"
      ],
      "metadata": {
        "colab": {
          "base_uri": "https://localhost:8080/",
          "height": 472
        },
        "id": "tDpEjNwBG_OW",
        "outputId": "f213d09b-1b6e-4504-8435-bda7c28773e3"
      },
      "execution_count": 11,
      "outputs": [
        {
          "output_type": "display_data",
          "data": {
            "text/plain": [
              "<Figure size 640x480 with 1 Axes>"
            ],
            "image/png": "[encoded data removed]"
          },
          "metadata": {}
        }
      ]
    },
    {
      "cell_type": "markdown",
      "source": [
        "**12. Implement and compare simple random sampling and systematic sampling.**"
      ],
      "metadata": {
        "id": "9K9Pqp7EHB-2"
      }
    },
    {
      "cell_type": "code",
      "source": [
        "import numpy as np\n",
        "\n",
        "# Create a dataset\n",
        "population = np.arange(1, 101)\n",
        "\n",
        "# Simple Random Sampling\n",
        "random_sample = np.random.choice(population, 10, replace=False)\n",
        "\n",
        "# Systematic Sampling\n",
        "k = 10  # Interval\n",
        "systematic_sample = population[::k][:10]\n",
        "\n",
        "print(\"Random Sample:\", random_sample)\n",
        "print(\"Systematic Sample:\", systematic_sample)"
      ],
      "metadata": {
        "colab": {
          "base_uri": "https://localhost:8080/"
        },
        "id": "HbbKDZFoHENO",
        "outputId": "beda6e45-d881-4778-b9f2-3161fafd647f"
      },
      "execution_count": 12,
      "outputs": [
        {
          "output_type": "stream",
          "name": "stdout",
          "text": [
            "Random Sample: [ 5 17 84 35 77 38 61 97 95 73]\n",
            "Systematic Sample: [ 1 11 21 31 41 51 61 71 81 91]\n"
          ]
        }
      ]
    },
    {
      "cell_type": "markdown",
      "source": [
        "**13. Calculate the mean, median, and mode of grouped data.**"
      ],
      "metadata": {
        "id": "XM9XMro_HGzO"
      }
    },
    {
      "cell_type": "code",
      "source": [
        "import pandas as pd\n",
        "\n",
        "# Grouped data: Age intervals and frequency\n",
        "data = {\n",
        "    'Age Interval': ['0-10', '11-20', '21-30', '31-40'],\n",
        "    'Frequency': [5, 8, 12, 7]\n",
        "}\n",
        "\n",
        "# Create a DataFrame\n",
        "df = pd.DataFrame(data)\n",
        "\n",
        "# Calculate midpoints of intervals\n",
        "df['Midpoint'] = [(int(x.split('-')[0]) + int(x.split('-')[1])) / 2 for x in df['Age Interval']]\n",
        "\n",
        "# Calculate mean, median, and mode\n",
        "mean = (df['Midpoint'] * df['Frequency']).sum() / df['Frequency'].sum()\n",
        "\n",
        "# Calculate the cumulative frequency\n",
        "cumulative_frequency = df['Frequency'].cumsum()\n",
        "\n",
        "# Find the midpoint where the cumulative frequency first exceeds half of the total frequency\n",
        "# This is the median for grouped data\n",
        "median_index = (cumulative_frequency >= df['Frequency'].sum() / 2).idxmax()\n",
        "median = df['Midpoint'].loc[median_index]\n",
        "\n",
        "# Calculate mode - Midpoint of the interval with the highest frequency\n",
        "mode = df['Midpoint'].iloc[df['Frequency'].idxmax()]\n",
        "\n",
        "print(f\"Mean: {mean}\")\n",
        "print(f\"Median: {median}\")\n",
        "print(f\"Mode: {mode}\")"
      ],
      "metadata": {
        "colab": {
          "base_uri": "https://localhost:8080/"
        },
        "id": "GaRjZRBjHI9W",
        "outputId": "8e719f6c-0916-43e5-c815-8035a2a3adec"
      },
      "execution_count": 13,
      "outputs": [
        {
          "output_type": "stream",
          "name": "stdout",
          "text": [
            "Mean: 21.984375\n",
            "Median: 25.5\n",
            "Mode: 25.5\n"
          ]
        }
      ]
    },
    {
      "cell_type": "markdown",
      "source": [
        "**14. Simulate data using Python and calculate its central tendency and dispersion.**"
      ],
      "metadata": {
        "id": "XksSQIACHMAe"
      }
    },
    {
      "cell_type": "code",
      "source": [
        "import numpy as np\n",
        "import pandas as pd\n",
        "\n",
        "# Simulating a dataset of 1000 data points\n",
        "data = np.random.normal(10, 100, 1000)\n",
        "\n",
        "# Central Tendency\n",
        "mean = np.mean(data)\n",
        "median = np.median(data)\n",
        "mode = pd.Series(data).mode()[0]\n",
        "\n",
        "# Dispersion\n",
        "variance = np.var(data)\n",
        "std_dev = np.std(data)\n",
        "range_value = np.ptp(data)\n",
        "\n",
        "print(f\"Mean: {mean}\")\n",
        "print(f\"Median: {median}\")\n",
        "print(f\"Mode: {mode}\")\n",
        "print(f\"Variance: {variance}\")\n",
        "print(f\"Standard Deviation: {std_dev}\")\n",
        "print(f\"Range: {range_value}\")"
      ],
      "metadata": {
        "colab": {
          "base_uri": "https://localhost:8080/"
        },
        "id": "L0zwIAvXHOMm",
        "outputId": "9c7521cb-7b9c-459c-dfd8-6b78106f3ab8"
      },
      "execution_count": 15,
      "outputs": [
        {
          "output_type": "stream",
          "name": "stdout",
          "text": [
            "Mean: 10.07261632669019\n",
            "Median: 14.739197318989863\n",
            "Mode: -306.85640940820014\n",
            "Variance: 9309.199999031813\n",
            "Standard Deviation: 96.48419559198186\n",
            "Range: 610.1050690889639\n"
          ]
        }
      ]
    },
    {
      "cell_type": "markdown",
      "source": [
        "**15. Use NumPy or pandas to summarize a dataset's descriptive statistics.**"
      ],
      "metadata": {
        "id": "nkpSdVyaHXQn"
      }
    },
    {
      "cell_type": "code",
      "source": [
        "import pandas as pd\n",
        "import numpy as np\n",
        "\n",
        "# Create a sample dataset\n",
        "data = np.random.normal(50, 10, 1000)\n",
        "\n",
        "# Convert to a pandas DataFrame\n",
        "df = pd.DataFrame(data, columns=['Values'])\n",
        "\n",
        "# Summarize descriptive statistics\n",
        "summary = df.describe()\n",
        "print(summary)"
      ],
      "metadata": {
        "colab": {
          "base_uri": "https://localhost:8080/"
        },
        "id": "C116B6KvHZ_P",
        "outputId": "e9860aaf-1bf3-4428-e41a-3bed4ad396c5"
      },
      "execution_count": 16,
      "outputs": [
        {
          "output_type": "stream",
          "name": "stdout",
          "text": [
            "            Values\n",
            "count  1000.000000\n",
            "mean     50.095769\n",
            "std      10.024680\n",
            "min      16.747960\n",
            "25%      43.644345\n",
            "50%      49.686375\n",
            "75%      56.515032\n",
            "max      85.504390\n"
          ]
        }
      ]
    },
    {
      "cell_type": "markdown",
      "source": [
        "**16. Plot a boxplot to understand the spread and identify outliers.**"
      ],
      "metadata": {
        "id": "dEke9zSyHdAW"
      }
    },
    {
      "cell_type": "code",
      "source": [
        "import matplotlib.pyplot as plt\n",
        "import seaborn as sns\n",
        "import numpy as np\n",
        "\n",
        "# Generate a dataset\n",
        "data = np.random.normal(50, 10, 1000)\n",
        "\n",
        "# Create a boxplot\n",
        "plt.figure(figsize=(8, 6))\n",
        "sns.boxplot(data=data)\n",
        "plt.title(\"Boxplot of Dataset\")\n",
        "plt.show()"
      ],
      "metadata": {
        "colab": {
          "base_uri": "https://localhost:8080/",
          "height": 526
        },
        "id": "CghyNk6gHgAu",
        "outputId": "1fa4b94f-3ae3-43de-c4a8-3e5102179de8"
      },
      "execution_count": 17,
      "outputs": [
        {
          "output_type": "display_data",
          "data": {
            "text/plain": [
              "<Figure size 800x600 with 1 Axes>"
            ],
            "image/png": "[encoded data removed]"
          },
          "metadata": {}
        }
      ]
    },
    {
      "cell_type": "markdown",
      "source": [
        "**17. Calculate the interquartile range (IQR) of a dataset.**"
      ],
      "metadata": {
        "id": "gSQbg0Q5Hiwu"
      }
    },
    {
      "cell_type": "code",
      "source": [
        "import numpy as np\n",
        "\n",
        "# Generate a dataset\n",
        "data = np.random.normal(50, 10, 1000)\n",
        "\n",
        "# Calculate IQR\n",
        "Q1 = np.percentile(data, 25)\n",
        "Q3 = np.percentile(data, 75)\n",
        "IQR = Q3 - Q1\n",
        "\n",
        "print(f\"IQR: {IQR}\")"
      ],
      "metadata": {
        "colab": {
          "base_uri": "https://localhost:8080/"
        },
        "id": "vpen4-BEHlWt",
        "outputId": "ff7fd462-afce-4567-ba83-82f7fe306ce6"
      },
      "execution_count": 18,
      "outputs": [
        {
          "output_type": "stream",
          "name": "stdout",
          "text": [
            "IQR: 13.402160267737507\n"
          ]
        }
      ]
    },
    {
      "cell_type": "markdown",
      "source": [
        "**18. Implement Z-score normalization and explain its significance.**"
      ],
      "metadata": {
        "id": "3J8o2puJHnrO"
      }
    },
    {
      "cell_type": "code",
      "source": [
        "import numpy as np\n",
        "\n",
        "# Generate a dataset\n",
        "data = np.random.normal(50, 10, 1000)\n",
        "\n",
        "# Z-score normalization\n",
        "mean = np.mean(data)\n",
        "std_dev = np.std(data)\n",
        "z_scores = (data - mean) / std_dev\n",
        "\n",
        "print(f\"Mean: {mean}, Standard Deviation: {std_dev}\")\n",
        "print(f\"Z-scores: {z_scores[:5]}\")  # First 5 Z-scores"
      ],
      "metadata": {
        "colab": {
          "base_uri": "https://localhost:8080/"
        },
        "id": "bqOG9RdgHqU_",
        "outputId": "2dd1bf93-6aa1-48bd-c1a8-52bf7acfa318"
      },
      "execution_count": 19,
      "outputs": [
        {
          "output_type": "stream",
          "name": "stdout",
          "text": [
            "Mean: 49.328936763688816, Standard Deviation: 10.00998061154281\n",
            "Z-scores: [-0.61572963 -0.03529232  0.56759578 -0.5968208   1.75495611]\n"
          ]
        }
      ]
    },
    {
      "cell_type": "markdown",
      "source": [
        "**19. Compare two datasets using their standard deviations.**"
      ],
      "metadata": {
        "id": "t7xaL_NDHtEf"
      }
    },
    {
      "cell_type": "code",
      "source": [
        "import numpy as np\n",
        "\n",
        "# Generate two datasets\n",
        "data1 = np.random.normal(50, 10, 1000)\n",
        "data2 = np.random.normal(60, 5, 1000)\n",
        "\n",
        "# Calculate standard deviation\n",
        "std_dev1 = np.std(data1)\n",
        "std_dev2 = np.std(data2)\n",
        "\n",
        "print(f\"Standard Deviation of Data1: {std_dev1}\")\n",
        "print(f\"Standard Deviation of Data2: {std_dev2}\")"
      ],
      "metadata": {
        "colab": {
          "base_uri": "https://localhost:8080/"
        },
        "id": "iJnkNJpBHvm3",
        "outputId": "df5257a1-0ec2-4f25-e18e-f5dd14d5ba3a"
      },
      "execution_count": 20,
      "outputs": [
        {
          "output_type": "stream",
          "name": "stdout",
          "text": [
            "Standard Deviation of Data1: 10.367404115613626\n",
            "Standard Deviation of Data2: 5.022310651445219\n"
          ]
        }
      ]
    },
    {
      "cell_type": "markdown",
      "source": [
        "**20. Write a Python program to visualize covariance using a heatmap.**"
      ],
      "metadata": {
        "id": "ldbQEPPkHx72"
      }
    },
    {
      "cell_type": "code",
      "source": [
        "import seaborn as sns\n",
        "import matplotlib.pyplot as plt\n",
        "import numpy as np\n",
        "\n",
        "# Generate two datasets\n",
        "data1 = np.random.normal(50, 10, 1000)\n",
        "data2 = np.random.normal(60, 5, 1000)\n",
        "\n",
        "# Create a covariance matrix\n",
        "cov_matrix = np.cov(data1, data2)\n",
        "\n",
        "# Visualize covariance using a heatmap\n",
        "sns.heatmap(cov_matrix, annot=True, cmap=\"coolwarm\", xticklabels=[\"Data1\", \"Data2\"], yticklabels=[\"Data1\", \"Data2\"])\n",
        "plt.title(\"Covariance Heatmap\")\n",
        "plt.show()"
      ],
      "metadata": {
        "colab": {
          "base_uri": "https://localhost:8080/",
          "height": 452
        },
        "id": "SNLFGP2vHz8G",
        "outputId": "57435ba8-4483-4952-eeed-f2f061064b47"
      },
      "execution_count": 21,
      "outputs": [
        {
          "output_type": "display_data",
          "data": {
            "text/plain": [
              "<Figure size 640x480 with 2 Axes>"
            ],
            "image/png": "[encoded data removed]"
          },
          "metadata": {}
        }
      ]
    },
    {
      "cell_type": "markdown",
      "source": [
        "**21. Use seaborn to create a correlation matrix for a dataset.**"
      ],
      "metadata": {
        "id": "Zk4xdY-JH5YF"
      }
    },
    {
      "cell_type": "code",
      "source": [
        "import seaborn as sns\n",
        "import matplotlib.pyplot as plt\n",
        "import pandas as pd\n",
        "\n",
        "# Create a sample DataFrame\n",
        "data = pd.DataFrame({\n",
        "    'A': np.random.normal(0, 1, 100),\n",
        "    'B': np.random.normal(1, 2, 100),\n",
        "    'C': np.random.normal(3, 1, 100)\n",
        "})\n",
        "\n",
        "# Create a correlation matrix\n",
        "corr_matrix = data.corr()\n",
        "\n",
        "# Plot the correlation matrix using seaborn heatmap\n",
        "sns.heatmap(corr_matrix, annot=True, cmap='coolwarm', fmt='.2f', linewidths=0.5)\n",
        "plt.title(\"Correlation Matrix\")\n",
        "plt.show()"
      ],
      "metadata": {
        "colab": {
          "base_uri": "https://localhost:8080/",
          "height": 452
        },
        "id": "VYtPomOsH6O9",
        "outputId": "dc47a772-0ece-43d5-b4d6-c3110d864a91"
      },
      "execution_count": 22,
      "outputs": [
        {
          "output_type": "display_data",
          "data": {
            "text/plain": [
              "<Figure size 640x480 with 2 Axes>"
            ],
            "image/png": "[encoded data removed]"
          },
          "metadata": {}
        }
      ]
    },
    {
      "cell_type": "markdown",
      "source": [
        "**22. Generate a dataset and implement both variance and standard deviation computations.**"
      ],
      "metadata": {
        "id": "nHQtVKDEH8T-"
      }
    },
    {
      "cell_type": "code",
      "source": [
        "import numpy as np\n",
        "\n",
        "# Generate a dataset\n",
        "data = np.random.normal(10, 100, 1000)\n",
        "\n",
        "# Variance and Standard Deviation\n",
        "variance = np.var(data)\n",
        "std_deviation = np.std(data)\n",
        "\n",
        "print(f\"Variance: {variance}\")\n",
        "print(f\"Standard Deviation: {std_deviation}\")"
      ],
      "metadata": {
        "colab": {
          "base_uri": "https://localhost:8080/"
        },
        "id": "QswAdWCbH-lf",
        "outputId": "94b10143-a511-40b8-84eb-0bdb8a5e90dc"
      },
      "execution_count": 24,
      "outputs": [
        {
          "output_type": "stream",
          "name": "stdout",
          "text": [
            "Variance: 9532.122810277157\n",
            "Standard Deviation: 97.63259092268912\n"
          ]
        }
      ]
    },
    {
      "cell_type": "markdown",
      "source": [
        "**23. Visualize skewness and kurtosis using Python libraries like matplotlib or seaborn.**"
      ],
      "metadata": {
        "id": "NuPlWsbVIDue"
      }
    },
    {
      "cell_type": "code",
      "source": [
        "import matplotlib.pyplot as plt\n",
        "import seaborn as sns\n",
        "import numpy as np\n",
        "from scipy.stats import skew, kurtosis\n",
        "\n",
        "# Generate a dataset (right-skewed)\n",
        "data = np.random.lognormal(0, 1, 1000)\n",
        "\n",
        "# Plot histogram\n",
        "sns.histplot(data, kde=True)\n",
        "plt.title(f\"Skewness: {skew(data)} | Kurtosis: {kurtosis(data)}\")\n",
        "plt.show()"
      ],
      "metadata": {
        "colab": {
          "base_uri": "https://localhost:8080/",
          "height": 452
        },
        "id": "R8kbVJ__IF3W",
        "outputId": "65671ebb-1162-49a1-c3e4-45945211a298"
      },
      "execution_count": 25,
      "outputs": [
        {
          "output_type": "display_data",
          "data": {
            "text/plain": [
              "<Figure size 640x480 with 1 Axes>"
            ],
            "image/png": "[encoded data removed]"
          },
          "metadata": {}
        }
      ]
    },
    {
      "cell_type": "markdown",
      "source": [
        "**24. Implement the Pearson and Spearman correlation coefficients for a dataset.**"
      ],
      "metadata": {
        "id": "g9dMwh9pIKEm"
      }
    },
    {
      "cell_type": "code",
      "source": [
        "import numpy as np\n",
        "from scipy.stats import pearsonr, spearmanr\n",
        "\n",
        "# Generate two datasets\n",
        "x = np.random.normal(0, 1, 1000)\n",
        "y = np.random.normal(0, 1, 1000)\n",
        "\n",
        "# Pearson correlation\n",
        "pearson_corr, _ = pearsonr(x, y)\n",
        "\n",
        "# Spearman correlation\n",
        "spearman_corr, _ = spearmanr(x, y)\n",
        "\n",
        "print(f\"Pearson Correlation: {pearson_corr}\")\n",
        "print(f\"Spearman Correlation: {spearman_corr}\")"
      ],
      "metadata": {
        "colab": {
          "base_uri": "https://localhost:8080/"
        },
        "id": "A2brwEdFILCm",
        "outputId": "44b2a9ae-60d7-4d3f-8211-dd855bb21021"
      },
      "execution_count": 26,
      "outputs": [
        {
          "output_type": "stream",
          "name": "stdout",
          "text": [
            "Pearson Correlation: 0.010745001626548185\n",
            "Spearman Correlation: 0.017278073278073278\n"
          ]
        }
      ]
    }
  ]
}